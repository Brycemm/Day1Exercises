{
 "cells": [
  {
   "cell_type": "code",
   "execution_count": 8,
   "id": "5f63745c-f3f7-47cc-afdd-9df726000199",
   "metadata": {},
   "outputs": [
    {
     "name": "stdout",
     "output_type": "stream",
     "text": [
      "20.0\n"
     ]
    }
   ],
   "source": [
    "i:int = 2\n",
    "print(num)"
   ]
  },
  {
   "cell_type": "markdown",
   "id": "fb37bcd4-fa38-4af6-82e5-fb94227689db",
   "metadata": {},
   "source": [
    "#### adding a number to an integer"
   ]
  },
  {
   "cell_type": "code",
   "execution_count": 4,
   "id": "b7d32950-d65b-42b8-8e89-a85146c636da",
   "metadata": {},
   "outputs": [
    {
     "name": "stdout",
     "output_type": "stream",
     "text": [
      "2\n"
     ]
    }
   ],
   "source": [
    "num = 5 + 3\n",
    "num2 = num - 6\n",
    "print(num2)"
   ]
  },
  {
   "cell_type": "code",
   "execution_count": 5,
   "id": "218e1e46-f43b-4a55-9290-8b4e1442a48c",
   "metadata": {},
   "outputs": [
    {
     "name": "stdout",
     "output_type": "stream",
     "text": [
      "10\n",
      "20.0\n"
     ]
    }
   ],
   "source": [
    "num = 5 * 2\n",
    "print(num)\n",
    "num = 5 * 3 + 10 / 2\n",
    "print(num)"
   ]
  },
  {
   "cell_type": "code",
   "execution_count": 10,
   "id": "e2330e3c-1f7f-4acb-89b0-a2489bd3b4fe",
   "metadata": {},
   "outputs": [
    {
     "name": "stdout",
     "output_type": "stream",
     "text": [
      "12.333333333333334\n",
      "6\n"
     ]
    }
   ],
   "source": [
    "num = 6\n",
    "print(num * 2 + 1 / 3)\n",
    "print(num)"
   ]
  },
  {
   "cell_type": "code",
   "execution_count": 13,
   "id": "775f48b5-89f2-4233-9380-ffbb11f44dd6",
   "metadata": {},
   "outputs": [
    {
     "name": "stdout",
     "output_type": "stream",
     "text": [
      "-100000\n"
     ]
    }
   ],
   "source": [
    "num = -10\n",
    "num2 = num ** 5\n",
    "print(num2)"
   ]
  },
  {
   "cell_type": "code",
   "execution_count": 15,
   "id": "61cd19ac-ca64-4250-9763-3bf6f20dc445",
   "metadata": {},
   "outputs": [
    {
     "name": "stdout",
     "output_type": "stream",
     "text": [
      "5.0\n"
     ]
    }
   ],
   "source": [
    "x = 25\n",
    "y = x ** 0.5\n",
    "print(y)"
   ]
  },
  {
   "cell_type": "code",
   "execution_count": 18,
   "id": "c104eb07-e6af-43c1-8ffe-00f23466fbf1",
   "metadata": {},
   "outputs": [
    {
     "name": "stdout",
     "output_type": "stream",
     "text": [
      "<class 'float'>\n"
     ]
    }
   ],
   "source": [
    "print(type(y))"
   ]
  },
  {
   "cell_type": "code",
   "execution_count": 22,
   "id": "e88ec653-a8c4-4721-94d2-fd98a8358e70",
   "metadata": {},
   "outputs": [
    {
     "name": "stdout",
     "output_type": "stream",
     "text": [
      "4.6\n",
      "4\n",
      "3\n"
     ]
    }
   ],
   "source": [
    "number = 23 / 5\n",
    "whole_number = 23 // 5\n",
    "remainder = 23 % 5\n",
    "print(number)\n",
    "print(whole_number)\n",
    "print(remainder)"
   ]
  },
  {
   "cell_type": "code",
   "execution_count": 31,
   "id": "85c6f278-c5ae-47a5-af4f-c066dcc31c7d",
   "metadata": {},
   "outputs": [
    {
     "data": {
      "text/plain": [
       "4"
      ]
     },
     "execution_count": 31,
     "metadata": {},
     "output_type": "execute_result"
    }
   ],
   "source": [
    "import math\n",
    "round(4.25)"
   ]
  },
  {
   "cell_type": "code",
   "execution_count": 35,
   "id": "c30b3d9b-597a-4522-a144-29658c413ad7",
   "metadata": {},
   "outputs": [
    {
     "name": "stdout",
     "output_type": "stream",
     "text": [
      "Your number is 10\n",
      "Your number times two is 20\n",
      "Your number is 10\n"
     ]
    }
   ],
   "source": [
    "num = 10\n",
    "s = f'Your number is {num}'\n",
    "print(f'Your number is {num}')\n",
    "print(f'Your number times two is {num * 2}')\n",
    "print(s)"
   ]
  },
  {
   "cell_type": "code",
   "execution_count": 34,
   "id": "f304a4b7-9e7a-40a7-baf2-762813a576d4",
   "metadata": {},
   "outputs": [
    {
     "name": "stdout",
     "output_type": "stream",
     "text": [
      "My favorite numbers are 50 and 200.\n"
     ]
    }
   ],
   "source": [
    "str = 'My favorite numbers are {0} and {2}.'.format(50,100,200)\n",
    "print(str)"
   ]
  },
  {
   "cell_type": "code",
   "execution_count": 36,
   "id": "b752b913-a451-4bdf-b064-df691ad4f475",
   "metadata": {},
   "outputs": [
    {
     "name": "stdin",
     "output_type": "stream",
     "text": [
      "What is your message to the world? Hello World!\n"
     ]
    },
    {
     "data": {
      "text/plain": [
       "'Hello World!'"
      ]
     },
     "execution_count": 36,
     "metadata": {},
     "output_type": "execute_result"
    }
   ],
   "source": [
    "input(\"What is your message to the world?\")\n",
    "print(input)"
   ]
  },
  {
   "cell_type": "code",
   "execution_count": 49,
   "id": "7900c4bb-dadb-4e5b-b2f0-bac719df8111",
   "metadata": {},
   "outputs": [
    {
     "name": "stdin",
     "output_type": "stream",
     "text": [
      "Enter a number:  2\n"
     ]
    },
    {
     "name": "stdout",
     "output_type": "stream",
     "text": [
      "3.0\n"
     ]
    }
   ],
   "source": [
    "num1 = float(input(\"Enter a number: \"))\n",
    "print(num1 + 1)"
   ]
  },
  {
   "cell_type": "code",
   "execution_count": 52,
   "id": "0cc07223-5ed6-40ec-83c7-43afddb2b9d5",
   "metadata": {},
   "outputs": [
    {
     "name": "stdin",
     "output_type": "stream",
     "text": [
      "Enter a number:  1.5\n"
     ]
    },
    {
     "name": "stdout",
     "output_type": "stream",
     "text": [
      "2.0\n"
     ]
    }
   ],
   "source": [
    "num2 = float(input(\"Enter a number: \"))\n",
    "print(num2 + 0.5)"
   ]
  },
  {
   "cell_type": "code",
   "execution_count": 54,
   "id": "60f97e4d-7aba-47f2-8772-9716eacb57fc",
   "metadata": {},
   "outputs": [
    {
     "name": "stdin",
     "output_type": "stream",
     "text": [
      "Enter a number:  2\n",
      "Enter another number:  3\n"
     ]
    },
    {
     "name": "stdout",
     "output_type": "stream",
     "text": [
      "5.0\n"
     ]
    }
   ],
   "source": [
    "num1 = float(input(\"Enter a number: \"))\n",
    "num2 = float(input(\"Enter another number: \"))\n",
    "print(num1 + num2)"
   ]
  },
  {
   "cell_type": "code",
   "execution_count": 56,
   "id": "be4defb9-38e1-4c46-aa38-1c426a75ca6d",
   "metadata": {},
   "outputs": [
    {
     "name": "stdin",
     "output_type": "stream",
     "text": [
      "Enter a number:  2\n",
      "Enter another number:  3\n"
     ]
    },
    {
     "name": "stdout",
     "output_type": "stream",
     "text": [
      "6.0\n"
     ]
    }
   ],
   "source": [
    "num1 = float(input(\"Enter a number: \"))\n",
    "num2 = float(input(\"Enter another number: \"))\n",
    "print(num1 * num2)"
   ]
  },
  {
   "cell_type": "code",
   "execution_count": 64,
   "id": "dfc780cb-efcf-4690-abc0-ba7034a1d1cc",
   "metadata": {},
   "outputs": [
    {
     "name": "stdin",
     "output_type": "stream",
     "text": [
      "Enter a number:  10000\n",
      "Enter another number:  23\n"
     ]
    },
    {
     "name": "stdout",
     "output_type": "stream",
     "text": [
      "434.0\n",
      "18.0\n"
     ]
    }
   ],
   "source": [
    "num1 = float(input(\"Enter a number: \"))\n",
    "num2 = float(input(\"Enter another number: \"))\n",
    "remainder = num1 % num2\n",
    "print(num1 // num2)\n",
    "print(remainder)\n",
    "#using // has output show as int not str"
   ]
  },
  {
   "cell_type": "code",
   "execution_count": null,
   "id": "e4d03b21-5708-4e88-8049-c5724c040717",
   "metadata": {},
   "outputs": [],
   "source": []
  }
 ],
 "metadata": {
  "kernelspec": {
   "display_name": "Python 3 (ipykernel)",
   "language": "python",
   "name": "python3"
  },
  "language_info": {
   "codemirror_mode": {
    "name": "ipython",
    "version": 3
   },
   "file_extension": ".py",
   "mimetype": "text/x-python",
   "name": "python",
   "nbconvert_exporter": "python",
   "pygments_lexer": "ipython3",
   "version": "3.11.5"
  }
 },
 "nbformat": 4,
 "nbformat_minor": 5
}
